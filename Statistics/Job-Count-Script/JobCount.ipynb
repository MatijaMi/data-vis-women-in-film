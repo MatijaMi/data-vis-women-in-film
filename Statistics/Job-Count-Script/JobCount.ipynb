{
 "cells": [
  {
   "cell_type": "markdown",
   "metadata": {},
   "source": [
    "# Generates the jobs.csv file that is needed for the dendrogram"
   ]
  },
  {
   "cell_type": "code",
   "execution_count": 1,
   "metadata": {},
   "outputs": [],
   "source": [
    "import csv\n",
    "\n",
    "with open(\"input.csv\", encoding=\"utf8\") as csvfile:\n",
    "    csvreader = csv.reader(csvfile, delimiter=\",\")\n",
    "\n",
    "    all_jobs = []\n",
    "    \n",
    "    for row in csvreader:\n",
    "        for job in row[5].split(\"|\"):\n",
    "            job = job.replace(' ', '-').replace('>','.')\n",
    "            all_jobs.append(job)\n",
    "            while(\".\" in job):\n",
    "                job = job[0:job.rindex(\".\")]\n",
    "                all_jobs.append(job)\n",
    "    \n",
    "    distinct_jobs = []\n",
    "    job_counts = []\n",
    "    \n",
    "    for job in sorted(all_jobs):\n",
    "        if(job not in distinct_jobs):\n",
    "            distinct_jobs.append(job)\n",
    "            job_counts.append(1)\n",
    "        else:\n",
    "            job_counts[distinct_jobs.index(job)] += 1;\n",
    "            \n",
    "    \n",
    "    with open('jobs.csv', 'w', encoding=\"utf8\") as output_file:\n",
    "        output_file.write(\"id, value\" + \"\\n\")\n",
    "        output_file.write(\"jobs,\" + \"\\n\")\n",
    "        for index in range(len(distinct_jobs)):\n",
    "            output_file.write(\"jobs.\" + distinct_jobs[index] + \",\" + str(job_counts[index]))\n",
    "            output_file.write('\\n')"
   ]
  },
  {
   "cell_type": "code",
   "execution_count": null,
   "metadata": {},
   "outputs": [],
   "source": []
  }
 ],
 "metadata": {
  "kernelspec": {
   "display_name": "Python 3",
   "language": "python",
   "name": "python3"
  },
  "language_info": {
   "codemirror_mode": {
    "name": "ipython",
    "version": 3
   },
   "file_extension": ".py",
   "mimetype": "text/x-python",
   "name": "python",
   "nbconvert_exporter": "python",
   "pygments_lexer": "ipython3",
   "version": "3.8.3"
  }
 },
 "nbformat": 4,
 "nbformat_minor": 4
}
